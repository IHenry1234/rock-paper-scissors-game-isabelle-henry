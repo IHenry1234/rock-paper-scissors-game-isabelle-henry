{
 "cells": [
  {
   "cell_type": "markdown",
   "id": "9f410542",
   "metadata": {},
   "source": [
    "# Rock, Paper, Scissors Assignment- Isabelle Henry"
   ]
  },
  {
   "cell_type": "code",
   "execution_count": 14,
   "id": "b217c674",
   "metadata": {},
   "outputs": [],
   "source": [
    "import random"
   ]
  },
  {
   "cell_type": "markdown",
   "id": "7fa57054",
   "metadata": {},
   "source": [
    "### Generate the PC's choice"
   ]
  },
  {
   "cell_type": "code",
   "execution_count": 78,
   "id": "ab6bf302",
   "metadata": {},
   "outputs": [],
   "source": [
    "my_list= [\"rock\",\"paper\",\"scissors\"]"
   ]
  },
  {
   "cell_type": "code",
   "execution_count": 79,
   "id": "f9727b75",
   "metadata": {},
   "outputs": [],
   "source": [
    "pc_choice = random.choice(my_list)"
   ]
  },
  {
   "cell_type": "code",
   "execution_count": 80,
   "id": "c318acbe",
   "metadata": {},
   "outputs": [
    {
     "data": {
      "text/plain": [
       "'scissors'"
      ]
     },
     "execution_count": 80,
     "metadata": {},
     "output_type": "execute_result"
    }
   ],
   "source": [
    "pc_choice"
   ]
  },
  {
   "cell_type": "markdown",
   "id": "f1fc0371",
   "metadata": {},
   "source": [
    "### Create user input choice"
   ]
  },
  {
   "cell_type": "code",
   "execution_count": 81,
   "id": "c38d12df",
   "metadata": {},
   "outputs": [
    {
     "name": "stdout",
     "output_type": "stream",
     "text": [
      "Enter your choice (rock, paper, or scissors): paper\n"
     ]
    }
   ],
   "source": [
    "user_choice = input(\"Enter your choice (rock, paper, or scissors): \")"
   ]
  },
  {
   "cell_type": "code",
   "execution_count": 82,
   "id": "c26d2376",
   "metadata": {},
   "outputs": [
    {
     "data": {
      "text/plain": [
       "'paper'"
      ]
     },
     "execution_count": 82,
     "metadata": {},
     "output_type": "execute_result"
    }
   ],
   "source": [
    "user_choice"
   ]
  },
  {
   "cell_type": "markdown",
   "id": "7d17f9d3",
   "metadata": {},
   "source": [
    "### Check input value & Determine winner"
   ]
  },
  {
   "cell_type": "code",
   "execution_count": 84,
   "id": "b0b09e8d",
   "metadata": {},
   "outputs": [
    {
     "name": "stdout",
     "output_type": "stream",
     "text": [
      "paper\n",
      "You Lost! scissors cut paper\n"
     ]
    }
   ],
   "source": [
    "if(user_choice == \"rock\" or user_choice == \"paper\" or user_choice == \"scissors\"):\n",
    "    print(user_choice)\n",
    "    \n",
    "    if(pc_choice == \"rock\" and user_choice == \"paper\"):\n",
    "        print(\"You Win! paper covers rock!\")\n",
    "    elif(pc_choice == \"paper\" and user_choice == \"rock\"):\n",
    "        print(\"You Lost! paper covers rock!\")\n",
    "        \n",
    "    elif(pc_choice == \"rock\" and user_choice == \"scissors\"):\n",
    "        print(\"You Lost! rock crushes scissors\")\n",
    "    elif(pc_choice == \"scissors\" and user_choice == \"rock\"):\n",
    "        print(\"You Win! rock crushes scissors\")\n",
    "        \n",
    "    elif(pc_choice == \"scissors\" and user_choice == \"paper\"):\n",
    "        print(\"You Lost! scissors cut paper\")\n",
    "    elif(pc_choice == \"paper\" and user_choice == \"scissors\"):\n",
    "        print(\"You Win! scissors cut paper\")\n",
    "        \n",
    "        \n",
    "    elif(pc_choice == \"scissors\" and user_choice == \"scissors\"):\n",
    "        print(\"TIE! Both chose scissors\")\n",
    "    elif(pc_choice == \"rock\" and user_choice == \"rock\"):\n",
    "        print(\"TIE! Both chose rock\")\n",
    "    elif(pc_choice == \"paper\" and user_choice == \"paper\"):\n",
    "        print(\"TIE! Both chose paper\")\n",
    "    \n",
    "    \n",
    "    \n",
    "else:\n",
    "    print (\"ERROR - Please enter a valid choice (rock, paper, or scissors)\")"
   ]
  },
  {
   "cell_type": "code",
   "execution_count": null,
   "id": "0866ebfe",
   "metadata": {},
   "outputs": [],
   "source": []
  }
 ],
 "metadata": {
  "kernelspec": {
   "display_name": "Python 3",
   "language": "python",
   "name": "python3"
  },
  "language_info": {
   "codemirror_mode": {
    "name": "ipython",
    "version": 3
   },
   "file_extension": ".py",
   "mimetype": "text/x-python",
   "name": "python",
   "nbconvert_exporter": "python",
   "pygments_lexer": "ipython3",
   "version": "3.8.8"
  }
 },
 "nbformat": 4,
 "nbformat_minor": 5
}
